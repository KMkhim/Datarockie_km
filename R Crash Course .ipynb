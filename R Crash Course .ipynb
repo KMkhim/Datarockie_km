{
 "cells":[
  {
   "cell_type":"code",
   "source":[
    "print(\"Hello World\")"
   ],
   "execution_count":27,
   "outputs":[
    {
     "name":"stdout",
     "text":[
      "[1] \"Hello World\"\n"
     ],
     "output_type":"stream"
    }
   ],
   "metadata":{
    "datalore":{
     "node_id":"wYtMhvIQp4yiTW9QpqJoSK",
     "type":"CODE",
     "hide_input_from_viewers":true,
     "hide_output_from_viewers":true
    }
   }
  },
  {
   "cell_type":"code",
   "source":[
    "#Basic Calculation\n",
    "1+1\n",
    "2*2\n",
    "5-3\n",
    "(1+2+3)*5\n",
    "5^2 #ยกกำลัง\n",
    "5**2 #ยกกำลัง"
   ],
   "execution_count":28,
   "outputs":[
    {
     "data":{
      "text\/html":[
       "2"
      ]
     },
     "metadata":{
      
     },
     "output_type":"display_data"
    },
    {
     "data":{
      "text\/html":[
       "4"
      ]
     },
     "metadata":{
      
     },
     "output_type":"display_data"
    },
    {
     "data":{
      "text\/html":[
       "2"
      ]
     },
     "metadata":{
      
     },
     "output_type":"display_data"
    },
    {
     "data":{
      "text\/html":[
       "30"
      ]
     },
     "metadata":{
      
     },
     "output_type":"display_data"
    },
    {
     "data":{
      "text\/html":[
       "25"
      ]
     },
     "metadata":{
      
     },
     "output_type":"display_data"
    },
    {
     "data":{
      "text\/html":[
       "25"
      ]
     },
     "metadata":{
      
     },
     "output_type":"display_data"
    }
   ],
   "metadata":{
    "datalore":{
     "node_id":"S7Gj1ArYnC9YU9rBaoA5GM",
     "type":"CODE",
     "hide_input_from_viewers":true,
     "hide_output_from_viewers":true
    }
   }
  },
  {
   "cell_type":"code",
   "source":[
    "'''\n",
    "Data Types in R\n",
    "numeric => 34,100.25, 1500\n",
    "character => \"hello world\"\n",
    "logical => TRUE FALSE\n",
    "\n",
    "ประกาศตัวแปรใน R สามารถใช้ได้ทั้ง <- และ =\n",
    "แต่ R programmers จะนิยม <-\n",
    "\n",
    "class(variable) เพื่อเช็ค data type ของตัวแปร\n",
    "\n",
    "'''"
   ],
   "execution_count":29,
   "outputs":[
    
   ],
   "metadata":{
    "datalore":{
     "node_id":"xUi5XXStjLQKf4la6OLB7r",
     "type":"CODE",
     "hide_input_from_viewers":true,
     "hide_output_from_viewers":true
    }
   }
  },
  {
   "cell_type":"code",
   "source":[
    "x <- 10\n",
    "y <- 20"
   ],
   "execution_count":30,
   "outputs":[
    
   ],
   "metadata":{
    "datalore":{
     "node_id":"DMmgcIHN7bRnL1SbUmc12f",
     "type":"CODE",
     "hide_input_from_viewers":true,
     "hide_output_from_viewers":true
    }
   }
  },
  {
   "cell_type":"code",
   "source":[
    "print( x + y)"
   ],
   "execution_count":31,
   "outputs":[
    {
     "name":"stdout",
     "text":[
      "[1] 30\n"
     ],
     "output_type":"stream"
    }
   ],
   "metadata":{
    "datalore":{
     "node_id":"BbWbBRST0KZ3SzlEJWLeGD",
     "type":"CODE",
     "hide_input_from_viewers":true,
     "hide_output_from_viewers":true
    }
   }
  },
  {
   "cell_type":"code",
   "source":[
    "my_name <- \"Khim\""
   ],
   "execution_count":32,
   "outputs":[
    
   ],
   "metadata":{
    "datalore":{
     "node_id":"Uqmoa9OD49uBzsI0EVOwQL",
     "type":"CODE",
     "hide_input_from_viewers":true,
     "hide_output_from_viewers":true
    }
   }
  },
  {
   "cell_type":"code",
   "source":[
    "age <- 20"
   ],
   "execution_count":33,
   "outputs":[
    
   ],
   "metadata":{
    "datalore":{
     "node_id":"tpn2qpX7WZiFNI3xktafaq",
     "type":"CODE",
     "hide_input_from_viewers":true,
     "hide_output_from_viewers":true
    }
   }
  },
  {
   "cell_type":"code",
   "source":[
    "school <- \"DataRockie\""
   ],
   "execution_count":34,
   "outputs":[
    
   ],
   "metadata":{
    "datalore":{
     "node_id":"6Gmf5GcFHGjng0jImfkNNi",
     "type":"CODE",
     "hide_input_from_viewers":true,
     "hide_output_from_viewers":true
    }
   }
  },
  {
   "cell_type":"code",
   "source":[
    "print(my_name)\n",
    "print(age)\n",
    "print(school)"
   ],
   "execution_count":35,
   "outputs":[
    {
     "name":"stdout",
     "text":[
      "[1] \"Khim\"\n",
      "[1] 20\n",
      "[1] \"DataRockie\"\n"
     ],
     "output_type":"stream"
    }
   ],
   "metadata":{
    "datalore":{
     "node_id":"XXfU7HOjSabYX6feN6dp64",
     "type":"CODE",
     "hide_input_from_viewers":true,
     "hide_output_from_viewers":true
    }
   }
  },
  {
   "cell_type":"code",
   "source":[
    "#create vectors\n",
    "#function c()\n",
    "\n",
    "friend <- c(\"khim\", \"top\", \"BB\", \"PP\")"
   ],
   "execution_count":44,
   "outputs":[
    
   ],
   "metadata":{
    "datalore":{
     "node_id":"JrBEIr6HwliurUDZBh38Wv",
     "type":"CODE",
     "hide_input_from_viewers":true,
     "hide_output_from_viewers":true
    }
   }
  },
  {
   "cell_type":"code",
   "source":[
    "length(friend)"
   ],
   "execution_count":45,
   "outputs":[
    {
     "data":{
      "text\/html":[
       "4"
      ]
     },
     "metadata":{
      
     },
     "output_type":"display_data"
    }
   ],
   "metadata":{
    "datalore":{
     "node_id":"CHE2nTqIhwgyMbDylWKGRF",
     "type":"CODE",
     "hide_input_from_viewers":true,
     "hide_output_from_viewers":true
    }
   }
  },
  {
   "cell_type":"code",
   "source":[
    "friend[4]"
   ],
   "execution_count":46,
   "outputs":[
    {
     "data":{
      "text\/html":[
       "'PP'"
      ]
     },
     "metadata":{
      
     },
     "output_type":"display_data"
    }
   ],
   "metadata":{
    "datalore":{
     "node_id":"3oYIkFYpbrsavSfdBdwfvN",
     "type":"CODE",
     "hide_input_from_viewers":true,
     "hide_output_from_viewers":true
    }
   }
  },
  {
   "cell_type":"code",
   "source":[
    "friend[6]"
   ],
   "execution_count":47,
   "outputs":[
    {
     "data":{
      "text\/html":[
       "NA"
      ]
     },
     "metadata":{
      
     },
     "output_type":"display_data"
    }
   ],
   "metadata":{
    "datalore":{
     "node_id":"flJ5ORVZOi4pLZU8O9U4Qt",
     "type":"CODE",
     "hide_input_from_viewers":true,
     "hide_output_from_viewers":true
    }
   }
  },
  {
   "cell_type":"code",
   "source":[
    "friend[1:3]"
   ],
   "execution_count":48,
   "outputs":[
    {
     "data":{
      "text\/html":[
       "<style>\n",
       ".list-inline {list-style: none; margin:0; padding: 0}\n",
       ".list-inline>li {display: inline-block}\n",
       ".list-inline>li:not(:last-child)::after {content: \"\\00b7\"; padding: 0 .5ex}\n",
       "<\/style>\n",
       "<ol class=list-inline><li>'khim'<\/li><li>'top'<\/li><li>'BB'<\/li><\/ol>\n"
      ]
     },
     "metadata":{
      
     },
     "output_type":"display_data"
    }
   ],
   "metadata":{
    "datalore":{
     "node_id":"V29owDmPCEkXOU7ZJWnjKc",
     "type":"CODE",
     "hide_input_from_viewers":true,
     "hide_output_from_viewers":true
    }
   }
  },
  {
   "cell_type":"code",
   "source":[
    "ex <- c(\"toy\", \"lisa\", \"jisoo\", 500, TRUE, FALSE) \n",
    "class(ex)"
   ],
   "execution_count":49,
   "outputs":[
    {
     "data":{
      "text\/html":[
       "'character'"
      ]
     },
     "metadata":{
      
     },
     "output_type":"display_data"
    }
   ],
   "metadata":{
    "datalore":{
     "node_id":"f6rKbDxafe3h8xqfvbnmj7",
     "type":"CODE",
     "hide_input_from_viewers":true,
     "hide_output_from_viewers":true
    }
   }
  },
  {
   "cell_type":"code",
   "source":[
    "#Data Frame ชื่อเรียก table ที่มี column and row"
   ],
   "execution_count":null,
   "outputs":[
    
   ],
   "metadata":{
    "datalore":{
     "node_id":"1jpKWCQzlMxJA9mAz6VhRZ",
     "type":"CODE",
     "hide_input_from_viewers":true,
     "hide_output_from_viewers":true
    }
   }
  },
  {
   "cell_type":"code",
   "source":[
    
   ],
   "execution_count":null,
   "outputs":[
    
   ],
   "metadata":{
    "datalore":{
     "node_id":"1LZNJhHbcQl2fDAhdIRGqy",
     "type":"CODE",
     "hide_input_from_viewers":true,
     "hide_output_from_viewers":true
    }
   }
  }
 ],
 "metadata":{
  "kernelspec":{
   "display_name":"R",
   "language":"r",
   "name":"ir"
  },
  "datalore":{
   "computation_mode":"JUPYTER",
   "package_manager":"conda",
   "base_environment":"minimal",
   "packages":[
    
   ],
   "report_row_ids":[
    
   ],
   "version":3
  }
 },
 "nbformat":4,
 "nbformat_minor":4
}