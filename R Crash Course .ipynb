{
 "cells":[
  {
   "cell_type":"markdown",
   "source":[
    "# R Crash Course"
   ],
   "attachments":{
    
   },
   "metadata":{
    "datalore":{
     "node_id":"i9KDxCJ8cFbRWbUGh9nBZO",
     "type":"MD",
     "hide_input_from_viewers":true,
     "hide_output_from_viewers":true
    }
   }
  },
  {
   "cell_type":"code",
   "source":[
    "print(\"Hello World\")"
   ],
   "execution_count":27,
   "outputs":[
    {
     "name":"stdout",
     "text":[
      "[1] \"Hello World\"\n"
     ],
     "output_type":"stream"
    }
   ],
   "metadata":{
    "datalore":{
     "node_id":"wYtMhvIQp4yiTW9QpqJoSK",
     "type":"CODE",
     "hide_input_from_viewers":true,
     "hide_output_from_viewers":true
    }
   }
  },
  {
   "cell_type":"code",
   "source":[
    "#Basic Calculation\n",
    "1+1\n",
    "2*2\n",
    "5-3\n",
    "(1+2+3)*5\n",
    "5^2 #ยกกำลัง\n",
    "5**2 #ยกกำลัง"
   ],
   "execution_count":28,
   "outputs":[
    {
     "data":{
      "text\/html":[
       "2"
      ]
     },
     "metadata":{
      
     },
     "output_type":"display_data"
    },
    {
     "data":{
      "text\/html":[
       "4"
      ]
     },
     "metadata":{
      
     },
     "output_type":"display_data"
    },
    {
     "data":{
      "text\/html":[
       "2"
      ]
     },
     "metadata":{
      
     },
     "output_type":"display_data"
    },
    {
     "data":{
      "text\/html":[
       "30"
      ]
     },
     "metadata":{
      
     },
     "output_type":"display_data"
    },
    {
     "data":{
      "text\/html":[
       "25"
      ]
     },
     "metadata":{
      
     },
     "output_type":"display_data"
    },
    {
     "data":{
      "text\/html":[
       "25"
      ]
     },
     "metadata":{
      
     },
     "output_type":"display_data"
    }
   ],
   "metadata":{
    "datalore":{
     "node_id":"S7Gj1ArYnC9YU9rBaoA5GM",
     "type":"CODE",
     "hide_input_from_viewers":true,
     "hide_output_from_viewers":true
    }
   }
  },
  {
   "cell_type":"code",
   "source":[
    "'''\n",
    "Data Types in R\n",
    "numeric => 34,100.25, 1500\n",
    "character => \"hello world\"\n",
    "logical => TRUE FALSE\n",
    "\n",
    "ประกาศตัวแปรใน R สามารถใช้ได้ทั้ง <- และ =\n",
    "แต่ R programmers จะนิยม <-\n",
    "\n",
    "class(variable) เพื่อเช็ค data type ของตัวแปร\n",
    "\n",
    "'''"
   ],
   "execution_count":29,
   "outputs":[
    
   ],
   "metadata":{
    "datalore":{
     "node_id":"xUi5XXStjLQKf4la6OLB7r",
     "type":"CODE",
     "hide_input_from_viewers":true,
     "hide_output_from_viewers":true
    }
   }
  },
  {
   "cell_type":"code",
   "source":[
    "x <- 10\n",
    "y <- 20"
   ],
   "execution_count":30,
   "outputs":[
    
   ],
   "metadata":{
    "datalore":{
     "node_id":"DMmgcIHN7bRnL1SbUmc12f",
     "type":"CODE",
     "hide_input_from_viewers":true,
     "hide_output_from_viewers":true
    }
   }
  },
  {
   "cell_type":"code",
   "source":[
    "print( x + y)"
   ],
   "execution_count":31,
   "outputs":[
    {
     "name":"stdout",
     "text":[
      "[1] 30\n"
     ],
     "output_type":"stream"
    }
   ],
   "metadata":{
    "datalore":{
     "node_id":"BbWbBRST0KZ3SzlEJWLeGD",
     "type":"CODE",
     "hide_input_from_viewers":true,
     "hide_output_from_viewers":true
    }
   }
  },
  {
   "cell_type":"code",
   "source":[
    "my_name <- \"Khim\""
   ],
   "execution_count":32,
   "outputs":[
    
   ],
   "metadata":{
    "datalore":{
     "node_id":"Uqmoa9OD49uBzsI0EVOwQL",
     "type":"CODE",
     "hide_input_from_viewers":true,
     "hide_output_from_viewers":true
    }
   }
  },
  {
   "cell_type":"code",
   "source":[
    "age <- 20"
   ],
   "execution_count":33,
   "outputs":[
    
   ],
   "metadata":{
    "datalore":{
     "node_id":"tpn2qpX7WZiFNI3xktafaq",
     "type":"CODE",
     "hide_input_from_viewers":true,
     "hide_output_from_viewers":true
    }
   }
  },
  {
   "cell_type":"code",
   "source":[
    "school <- \"DataRockie\""
   ],
   "execution_count":34,
   "outputs":[
    
   ],
   "metadata":{
    "datalore":{
     "node_id":"6Gmf5GcFHGjng0jImfkNNi",
     "type":"CODE",
     "hide_input_from_viewers":true,
     "hide_output_from_viewers":true
    }
   }
  },
  {
   "cell_type":"code",
   "source":[
    "print(my_name)\n",
    "print(age)\n",
    "print(school)"
   ],
   "execution_count":35,
   "outputs":[
    {
     "name":"stdout",
     "text":[
      "[1] \"Khim\"\n",
      "[1] 20\n",
      "[1] \"DataRockie\"\n"
     ],
     "output_type":"stream"
    }
   ],
   "metadata":{
    "datalore":{
     "node_id":"XXfU7HOjSabYX6feN6dp64",
     "type":"CODE",
     "hide_input_from_viewers":true,
     "hide_output_from_viewers":true
    }
   }
  },
  {
   "cell_type":"code",
   "source":[
    "#create vectors\n",
    "#function c()\n",
    "\n",
    "friend <- c(\"khim\", \"top\", \"BB\", \"PP\")"
   ],
   "execution_count":44,
   "outputs":[
    
   ],
   "metadata":{
    "datalore":{
     "node_id":"JrBEIr6HwliurUDZBh38Wv",
     "type":"CODE",
     "hide_input_from_viewers":true,
     "hide_output_from_viewers":true
    }
   }
  },
  {
   "cell_type":"code",
   "source":[
    "length(friend)"
   ],
   "execution_count":45,
   "outputs":[
    {
     "data":{
      "text\/html":[
       "4"
      ]
     },
     "metadata":{
      
     },
     "output_type":"display_data"
    }
   ],
   "metadata":{
    "datalore":{
     "node_id":"CHE2nTqIhwgyMbDylWKGRF",
     "type":"CODE",
     "hide_input_from_viewers":true,
     "hide_output_from_viewers":true
    }
   }
  },
  {
   "cell_type":"code",
   "source":[
    "friend[4]"
   ],
   "execution_count":46,
   "outputs":[
    {
     "data":{
      "text\/html":[
       "'PP'"
      ]
     },
     "metadata":{
      
     },
     "output_type":"display_data"
    }
   ],
   "metadata":{
    "datalore":{
     "node_id":"3oYIkFYpbrsavSfdBdwfvN",
     "type":"CODE",
     "hide_input_from_viewers":true,
     "hide_output_from_viewers":true
    }
   }
  },
  {
   "cell_type":"code",
   "source":[
    "friend[6]"
   ],
   "execution_count":47,
   "outputs":[
    {
     "data":{
      "text\/html":[
       "NA"
      ]
     },
     "metadata":{
      
     },
     "output_type":"display_data"
    }
   ],
   "metadata":{
    "datalore":{
     "node_id":"flJ5ORVZOi4pLZU8O9U4Qt",
     "type":"CODE",
     "hide_input_from_viewers":true,
     "hide_output_from_viewers":true
    }
   }
  },
  {
   "cell_type":"code",
   "source":[
    "friend[1:3]"
   ],
   "execution_count":48,
   "outputs":[
    {
     "data":{
      "text\/html":[
       "<style>\n",
       ".list-inline {list-style: none; margin:0; padding: 0}\n",
       ".list-inline>li {display: inline-block}\n",
       ".list-inline>li:not(:last-child)::after {content: \"\\00b7\"; padding: 0 .5ex}\n",
       "<\/style>\n",
       "<ol class=list-inline><li>'khim'<\/li><li>'top'<\/li><li>'BB'<\/li><\/ol>\n"
      ]
     },
     "metadata":{
      
     },
     "output_type":"display_data"
    }
   ],
   "metadata":{
    "datalore":{
     "node_id":"V29owDmPCEkXOU7ZJWnjKc",
     "type":"CODE",
     "hide_input_from_viewers":true,
     "hide_output_from_viewers":true
    }
   }
  },
  {
   "cell_type":"code",
   "source":[
    "ex <- c(\"toy\", \"lisa\", \"jisoo\", 500, TRUE, FALSE) \n",
    "class(ex)"
   ],
   "execution_count":49,
   "outputs":[
    {
     "data":{
      "text\/html":[
       "'character'"
      ]
     },
     "metadata":{
      
     },
     "output_type":"display_data"
    }
   ],
   "metadata":{
    "datalore":{
     "node_id":"f6rKbDxafe3h8xqfvbnmj7",
     "type":"CODE",
     "hide_input_from_viewers":true,
     "hide_output_from_viewers":true
    }
   }
  },
  {
   "cell_type":"code",
   "source":[
    "#Data Frame ชื่อเรียก table ที่มี column and row"
   ],
   "execution_count":null,
   "outputs":[
    
   ],
   "metadata":{
    "datalore":{
     "node_id":"1jpKWCQzlMxJA9mAz6VhRZ",
     "type":"CODE",
     "hide_input_from_viewers":true,
     "hide_output_from_viewers":true
    }
   }
  },
  {
   "cell_type":"code",
   "source":[
    "friends <- c(\"khim\", \"Prawta\", \"BB\", \"Nasa\", \"singha\")\n",
    "ages <- c(20, 21, 12, 7, 2)\n",
    "movie_lover <- c(TRUE, FALSE, TRUE, FALSE, TRUE)"
   ],
   "execution_count":5,
   "outputs":[
    
   ],
   "metadata":{
    "datalore":{
     "node_id":"1LZNJhHbcQl2fDAhdIRGqy",
     "type":"CODE",
     "hide_input_from_viewers":true,
     "hide_output_from_viewers":true
    }
   }
  },
  {
   "cell_type":"code",
   "source":[
    "df <- data.frame(friends, ages, movie_lover)"
   ],
   "execution_count":6,
   "outputs":[
    
   ],
   "metadata":{
    "datalore":{
     "node_id":"PWMPNgaA0NceQrW0zj8Jvo",
     "type":"CODE",
     "hide_input_from_viewers":true,
     "hide_output_from_viewers":true
    }
   }
  },
  {
   "cell_type":"code",
   "source":[
    "df"
   ],
   "execution_count":7,
   "outputs":[
    {
     "data":{
      "text\/html":[
       "<table class=\"dataframe\">\n",
       "<caption>A data.frame: 5 × 3<\/caption>\n",
       "<thead>\n",
       "\t<tr><th scope=col>friends<\/th><th scope=col>ages<\/th><th scope=col>movie_lover<\/th><\/tr>\n",
       "\t<tr><th scope=col>&lt;chr&gt;<\/th><th scope=col>&lt;dbl&gt;<\/th><th scope=col>&lt;lgl&gt;<\/th><\/tr>\n",
       "<\/thead>\n",
       "<tbody>\n",
       "\t<tr><td>khim  <\/td><td>20<\/td><td> TRUE<\/td><\/tr>\n",
       "\t<tr><td>Prawta<\/td><td>21<\/td><td>FALSE<\/td><\/tr>\n",
       "\t<tr><td>BB    <\/td><td>12<\/td><td> TRUE<\/td><\/tr>\n",
       "\t<tr><td>Nasa  <\/td><td> 7<\/td><td>FALSE<\/td><\/tr>\n",
       "\t<tr><td>singha<\/td><td> 2<\/td><td> TRUE<\/td><\/tr>\n",
       "<\/tbody>\n",
       "<\/table>\n"
      ]
     },
     "metadata":{
      
     },
     "output_type":"display_data"
    }
   ],
   "metadata":{
    "datalore":{
     "node_id":"wvlPgzIopqYunEoawO9v3K",
     "type":"CODE",
     "hide_input_from_viewers":true,
     "hide_output_from_viewers":true
    }
   }
  },
  {
   "cell_type":"code",
   "source":[
    "#check dimension row*column\n",
    "dim(df)"
   ],
   "execution_count":6,
   "outputs":[
    {
     "data":{
      "text\/html":[
       "<style>\n",
       ".list-inline {list-style: none; margin:0; padding: 0}\n",
       ".list-inline>li {display: inline-block}\n",
       ".list-inline>li:not(:last-child)::after {content: \"\\00b7\"; padding: 0 .5ex}\n",
       "<\/style>\n",
       "<ol class=list-inline><li>5<\/li><li>3<\/li><\/ol>\n"
      ]
     },
     "metadata":{
      
     },
     "output_type":"display_data"
    }
   ],
   "metadata":{
    "datalore":{
     "node_id":"GOrkrPrUIbxZam4YQ6Y1DH",
     "type":"CODE",
     "hide_input_from_viewers":true,
     "hide_output_from_viewers":true
    }
   }
  },
  {
   "cell_type":"code",
   "source":[
    "#Add new column\n",
    "#Table_name$newColumn_name <- c(\"\")\n",
    "df$location <- c(\"Bangkok\", \"Chonburi\", \"Rayong\", \"BKK\", \"BKK\")\n",
    "df"
   ],
   "execution_count":8,
   "outputs":[
    {
     "data":{
      "text\/html":[
       "<table class=\"dataframe\">\n",
       "<caption>A data.frame: 5 × 4<\/caption>\n",
       "<thead>\n",
       "\t<tr><th scope=col>friends<\/th><th scope=col>ages<\/th><th scope=col>movie_lover<\/th><th scope=col>location<\/th><\/tr>\n",
       "\t<tr><th scope=col>&lt;chr&gt;<\/th><th scope=col>&lt;dbl&gt;<\/th><th scope=col>&lt;lgl&gt;<\/th><th scope=col>&lt;chr&gt;<\/th><\/tr>\n",
       "<\/thead>\n",
       "<tbody>\n",
       "\t<tr><td>khim  <\/td><td>20<\/td><td> TRUE<\/td><td>Bangkok <\/td><\/tr>\n",
       "\t<tr><td>Prawta<\/td><td>21<\/td><td>FALSE<\/td><td>Chonburi<\/td><\/tr>\n",
       "\t<tr><td>BB    <\/td><td>12<\/td><td> TRUE<\/td><td>Rayong  <\/td><\/tr>\n",
       "\t<tr><td>Nasa  <\/td><td> 7<\/td><td>FALSE<\/td><td>BKK     <\/td><\/tr>\n",
       "\t<tr><td>singha<\/td><td> 2<\/td><td> TRUE<\/td><td>BKK     <\/td><\/tr>\n",
       "<\/tbody>\n",
       "<\/table>\n"
      ]
     },
     "metadata":{
      
     },
     "output_type":"display_data"
    }
   ],
   "metadata":{
    "datalore":{
     "node_id":"O6FvQkK5hWw9Uct8u2d9OM",
     "type":"CODE",
     "hide_input_from_viewers":true,
     "hide_output_from_viewers":true
    }
   }
  },
  {
   "cell_type":"code",
   "source":[
    "#delete column\n",
    "df$location <- NULL\n",
    "df"
   ],
   "execution_count":9,
   "outputs":[
    {
     "data":{
      "text\/html":[
       "<table class=\"dataframe\">\n",
       "<caption>A data.frame: 5 × 3<\/caption>\n",
       "<thead>\n",
       "\t<tr><th scope=col>friends<\/th><th scope=col>ages<\/th><th scope=col>movie_lover<\/th><\/tr>\n",
       "\t<tr><th scope=col>&lt;chr&gt;<\/th><th scope=col>&lt;dbl&gt;<\/th><th scope=col>&lt;lgl&gt;<\/th><\/tr>\n",
       "<\/thead>\n",
       "<tbody>\n",
       "\t<tr><td>khim  <\/td><td>20<\/td><td> TRUE<\/td><\/tr>\n",
       "\t<tr><td>Prawta<\/td><td>21<\/td><td>FALSE<\/td><\/tr>\n",
       "\t<tr><td>BB    <\/td><td>12<\/td><td> TRUE<\/td><\/tr>\n",
       "\t<tr><td>Nasa  <\/td><td> 7<\/td><td>FALSE<\/td><\/tr>\n",
       "\t<tr><td>singha<\/td><td> 2<\/td><td> TRUE<\/td><\/tr>\n",
       "<\/tbody>\n",
       "<\/table>\n"
      ]
     },
     "metadata":{
      
     },
     "output_type":"display_data"
    }
   ],
   "metadata":{
    "datalore":{
     "node_id":"REVHaPiH2iE5ZWyKW7nK2r",
     "type":"CODE",
     "hide_input_from_viewers":true,
     "hide_output_from_viewers":true
    }
   }
  },
  {
   "cell_type":"code",
   "source":[
    "#Subset Data Frame\n",
    "#filter row ที่ต้องการ\n",
    "\n",
    "subset(df, df$ages < 20)"
   ],
   "execution_count":10,
   "outputs":[
    {
     "data":{
      "text\/html":[
       "<table class=\"dataframe\">\n",
       "<caption>A data.frame: 3 × 3<\/caption>\n",
       "<thead>\n",
       "\t<tr><th><\/th><th scope=col>friends<\/th><th scope=col>ages<\/th><th scope=col>movie_lover<\/th><\/tr>\n",
       "\t<tr><th><\/th><th scope=col>&lt;chr&gt;<\/th><th scope=col>&lt;dbl&gt;<\/th><th scope=col>&lt;lgl&gt;<\/th><\/tr>\n",
       "<\/thead>\n",
       "<tbody>\n",
       "\t<tr><th scope=row>3<\/th><td>BB    <\/td><td>12<\/td><td> TRUE<\/td><\/tr>\n",
       "\t<tr><th scope=row>4<\/th><td>Nasa  <\/td><td> 7<\/td><td>FALSE<\/td><\/tr>\n",
       "\t<tr><th scope=row>5<\/th><td>singha<\/td><td> 2<\/td><td> TRUE<\/td><\/tr>\n",
       "<\/tbody>\n",
       "<\/table>\n"
      ]
     },
     "metadata":{
      
     },
     "output_type":"display_data"
    }
   ],
   "metadata":{
    "datalore":{
     "node_id":"vLpgnve1BfoZAfZDLnMf9J",
     "type":"CODE",
     "hide_input_from_viewers":true,
     "hide_output_from_viewers":true
    }
   }
  },
  {
   "cell_type":"code",
   "source":[
    "subset(df, df$movie_lover == TRUE)"
   ],
   "execution_count":11,
   "outputs":[
    {
     "data":{
      "text\/html":[
       "<table class=\"dataframe\">\n",
       "<caption>A data.frame: 3 × 3<\/caption>\n",
       "<thead>\n",
       "\t<tr><th><\/th><th scope=col>friends<\/th><th scope=col>ages<\/th><th scope=col>movie_lover<\/th><\/tr>\n",
       "\t<tr><th><\/th><th scope=col>&lt;chr&gt;<\/th><th scope=col>&lt;dbl&gt;<\/th><th scope=col>&lt;lgl&gt;<\/th><\/tr>\n",
       "<\/thead>\n",
       "<tbody>\n",
       "\t<tr><th scope=row>1<\/th><td>khim  <\/td><td>20<\/td><td>TRUE<\/td><\/tr>\n",
       "\t<tr><th scope=row>3<\/th><td>BB    <\/td><td>12<\/td><td>TRUE<\/td><\/tr>\n",
       "\t<tr><th scope=row>5<\/th><td>singha<\/td><td> 2<\/td><td>TRUE<\/td><\/tr>\n",
       "<\/tbody>\n",
       "<\/table>\n"
      ]
     },
     "metadata":{
      
     },
     "output_type":"display_data"
    }
   ],
   "metadata":{
    "datalore":{
     "node_id":"qEQgteCI1EfsHyrlx6My2Q",
     "type":"CODE",
     "hide_input_from_viewers":true,
     "hide_output_from_viewers":true
    }
   }
  },
  {
   "cell_type":"code",
   "source":[
    "#What is Function : input --> output\n",
    "square <- function(x){\n",
    "    return(x**2)\n",
    "}\n",
    "square(5)"
   ],
   "execution_count":12,
   "outputs":[
    {
     "data":{
      "text\/html":[
       "25"
      ]
     },
     "metadata":{
      
     },
     "output_type":"display_data"
    }
   ],
   "metadata":{
    "datalore":{
     "node_id":"RYwzu9DEKQ9KbGQeWq4jMz",
     "type":"CODE",
     "hide_input_from_viewers":true,
     "hide_output_from_viewers":true
    }
   }
  },
  {
   "cell_type":"code",
   "source":[
    "#Control Flow\n",
    "#IF, FOR, WHILE\n",
    "\n",
    "#if -else\n",
    "weather <- \"sunny\"\n",
    "if(weather == \"sunny\"){\n",
    "    print(\"love it!\")\n",
    "}else print(\"boring\")"
   ],
   "execution_count":16,
   "outputs":[
    {
     "name":"stdout",
     "text":[
      "[1] \"love it!\"\n"
     ],
     "output_type":"stream"
    }
   ],
   "metadata":{
    "datalore":{
     "node_id":"HGKZXVQWIAdXWkUZxNY2fq",
     "type":"CODE",
     "hide_input_from_viewers":true,
     "hide_output_from_viewers":true
    }
   }
  },
  {
   "cell_type":"code",
   "source":[
    "#for loop\n",
    "\n",
    "for( i in 1:5){\n",
    "    print(\"khim\")\n",
    "}"
   ],
   "execution_count":17,
   "outputs":[
    {
     "name":"stdout",
     "text":[
      "[1] \"khim\"\n",
      "[1] \"khim\"\n",
      "[1] \"khim\"\n",
      "[1] \"khim\"\n",
      "[1] \"khim\"\n"
     ],
     "output_type":"stream"
    }
   ],
   "metadata":{
    "datalore":{
     "node_id":"Krohl3tcX2QJrx2dCuWrSV",
     "type":"CODE",
     "hide_input_from_viewers":true,
     "hide_output_from_viewers":true
    }
   }
  },
  {
   "cell_type":"code",
   "source":[
    "#while\n",
    "\n",
    "while(TRUE){\n",
    "    #do sth\n",
    "    #until FALSE\n",
    "}"
   ],
   "execution_count":null,
   "outputs":[
    
   ],
   "metadata":{
    "datalore":{
     "node_id":"iLJlAwqKc2qaeKNaN7OMSi",
     "type":"CODE",
     "hide_input_from_viewers":true,
     "hide_output_from_viewers":true
    }
   }
  },
  {
   "cell_type":"code",
   "source":[
    "check_weather <- function(input){\n",
    "    if(input == \"sunny\"){\n",
    "        print(\"love it! :)\")\n",
    "    }else print(\"so bad :(\")\n",
    "}\n",
    "\n",
    "check_weather(\"sunny\")\n",
    "check_weather(\"cloudy\")"
   ],
   "execution_count":19,
   "outputs":[
    {
     "name":"stdout",
     "text":[
      "[1] \"love it! :)\"\n",
      "[1] \"so bad :(\"\n"
     ],
     "output_type":"stream"
    }
   ],
   "metadata":{
    "datalore":{
     "node_id":"fV5MOtaYEFRgCnwEbBcFQn",
     "type":"CODE",
     "hide_input_from_viewers":true,
     "hide_output_from_viewers":true
    }
   }
  },
  {
   "cell_type":"code",
   "source":[
    "Read Data into R\n",
    "-CSV\n",
    "-Excel\n",
    "-GG Sheets\n",
    "-Database\n",
    "    SQLite\n",
    "    PostgreSQL\n",
    "    MySQL\n",
    "    Microsoft SQL Server\n",
    "-JSON\n",
    "-XML | HTML"
   ],
   "execution_count":null,
   "outputs":[
    
   ],
   "metadata":{
    "datalore":{
     "node_id":"5U9fTbgoFZuIpY51vrJvyk",
     "type":"CODE",
     "hide_input_from_viewers":true,
     "hide_output_from_viewers":true
    }
   }
  },
  {
   "cell_type":"code",
   "source":[
    "url <- \"https:\/\/gist.githubusercontent.com\/toyeiei\/77576fc3b016ea073cb4a2b331cb9584\/raw\/13f65efcbf230e595fd46f17c791a2d090eb57b1\/r_example_dataframe.csv\"\n",
    "blackpink <- read.csv(url)\n",
    "blackpink"
   ],
   "execution_count":26,
   "outputs":[
    {
     "data":{
      "text\/html":[
       "<table class=\"dataframe\">\n",
       "<caption>A data.frame: 5 × 4<\/caption>\n",
       "<thead>\n",
       "\t<tr><th scope=col>id<\/th><th scope=col>customer_names<\/th><th scope=col>customer_ages<\/th><th scope=col>customer_country<\/th><\/tr>\n",
       "\t<tr><th scope=col>&lt;int&gt;<\/th><th scope=col>&lt;chr&gt;<\/th><th scope=col>&lt;int&gt;<\/th><th scope=col>&lt;chr&gt;<\/th><\/tr>\n",
       "<\/thead>\n",
       "<tbody>\n",
       "\t<tr><td>1<\/td><td>Lisa <\/td><td>24<\/td><td>Thailand<\/td><\/tr>\n",
       "\t<tr><td>2<\/td><td>Jisoo<\/td><td>25<\/td><td>Korea   <\/td><\/tr>\n",
       "\t<tr><td>3<\/td><td>Jenny<\/td><td>24<\/td><td>Korea   <\/td><\/tr>\n",
       "\t<tr><td>4<\/td><td>Rose <\/td><td>26<\/td><td>Korea   <\/td><\/tr>\n",
       "\t<tr><td>5<\/td><td>Hana <\/td><td>28<\/td><td>China   <\/td><\/tr>\n",
       "<\/tbody>\n",
       "<\/table>\n"
      ]
     },
     "metadata":{
      
     },
     "output_type":"display_data"
    }
   ],
   "metadata":{
    "datalore":{
     "node_id":"KCKTSYQTOXvx43svDoRFLq",
     "type":"CODE",
     "hide_input_from_viewers":true,
     "hide_output_from_viewers":true
    }
   }
  }
 ],
 "metadata":{
  "kernelspec":{
   "display_name":"R",
   "language":"r",
   "name":"ir"
  },
  "datalore":{
   "computation_mode":"JUPYTER",
   "package_manager":"conda",
   "base_environment":"minimal",
   "packages":[
    
   ],
   "report_row_ids":[
    
   ],
   "version":3
  }
 },
 "nbformat":4,
 "nbformat_minor":4
}